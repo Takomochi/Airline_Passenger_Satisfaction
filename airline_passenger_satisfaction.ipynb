{
 "cells": [
  {
   "cell_type": "markdown",
   "id": "c1e3ab4d-ceeb-493b-9ca4-ef4d1f6fb858",
   "metadata": {},
   "source": [
    "# Airline passenger satisfaction - EDA"
   ]
  },
  {
   "cell_type": "markdown",
   "id": "346d9e8b-8f2f-41c8-8209-6db2eba1c714",
   "metadata": {},
   "source": [
    "## About the Data\n",
    "\n",
    "This dataset contains an airline passenger satisfaction survey. What factors are highly correlated to a satisfied (or dissatisfied) passenger?\n",
    "\n",
    "    - Gender: Gender of the passengers (Female, Male)\n",
    "    - Customer Type: The customer type (Loyal customer, disloyal customer)\n",
    "    - Age: The actual age of the passengers\n",
    "    - Type of Travel: Purpose of the flight of the passengers (Personal Travel, Business Travel)\n",
    "    - Class: Travel class in the plane of the passengers (Business, Eco, Eco Plus)\n",
    "    - Flight distance: The flight distance of this journey\n",
    "    - Inflight wifi service: Satisfaction level of the inflight wifi service (0:Not Applicable;1-5)\n",
    "    - Departure/Arrival time convenient: Satisfaction level of Departure/Arrival time convenient\n",
    "    - Ease of Online booking: Satisfaction level of online booking\n",
    "    - Gate location: Satisfaction level of Gate location\n",
    "    - Food and drink: Satisfaction level of Food and drink\n",
    "    - Online boarding: Satisfaction level of online boarding\n",
    "    - Seat comfort: Satisfaction level of Seat comfort\n",
    "    - Inflight entertainment: Satisfaction level of inflight entertainment\n",
    "    - On-board service: Satisfaction level of On-board service\n",
    "    - Leg room service: Satisfaction level of Leg room service\n",
    "    - Baggage handling: Satisfaction level of baggage handling\n",
    "    - Check-in service: Satisfaction level of Check-in service\n",
    "    - Inflight service: Satisfaction level of inflight service\n",
    "    - Cleanliness: Satisfaction level of Cleanliness\n",
    "    - Departure Delay in Minutes: Minutes delayed when departure\n",
    "    - Arrival Delay in Minutes: Minutes delayed when Arrival\n",
    "    - Satisfaction: Airline satisfaction level(Satisfaction, neutral or dissatisfaction)\n",
    "Note that this data set was modified from this dataset by John D here. It has been cleaned up for the purposes of classification."
   ]
  },
  {
   "cell_type": "markdown",
   "id": "11891e14-0993-45b3-85ba-518f0169558a",
   "metadata": {},
   "source": [
    "# Import data"
   ]
  },
  {
   "cell_type": "code",
   "execution_count": 1,
   "id": "86af62a6-9b81-47bc-a142-024760b6d6d1",
   "metadata": {},
   "outputs": [],
   "source": [
    "import pandas as pd\n",
    "import matplotlib.pyplot as plt\n",
    "import seaborn as sns\n",
    "%matplotlib inline"
   ]
  },
  {
   "cell_type": "code",
   "execution_count": 2,
   "id": "c39b1efd-a89b-423c-8749-51c907c7e994",
   "metadata": {},
   "outputs": [],
   "source": [
    "test = pd.read_csv(\"Resources/test.csv\")\n",
    "train= pd.read_csv(\"Resources/train.csv\")"
   ]
  },
  {
   "cell_type": "code",
   "execution_count": 3,
   "id": "a7d92c83-8374-46d8-b605-b7f848a68d49",
   "metadata": {},
   "outputs": [
    {
     "data": {
      "text/plain": [
       "(25976, 25)"
      ]
     },
     "execution_count": 3,
     "metadata": {},
     "output_type": "execute_result"
    }
   ],
   "source": [
    "test.shape"
   ]
  },
  {
   "cell_type": "code",
   "execution_count": 4,
   "id": "6ca5ee44-e085-4ad1-96c9-c7db5b27a68d",
   "metadata": {},
   "outputs": [
    {
     "data": {
      "text/plain": [
       "(103904, 25)"
      ]
     },
     "execution_count": 4,
     "metadata": {},
     "output_type": "execute_result"
    }
   ],
   "source": [
    "train.shape"
   ]
  },
  {
   "cell_type": "code",
   "execution_count": 5,
   "id": "70af41cc-cfaf-42c2-b80b-539fe4611027",
   "metadata": {},
   "outputs": [
    {
     "data": {
      "text/html": [
       "<div>\n",
       "<style scoped>\n",
       "    .dataframe tbody tr th:only-of-type {\n",
       "        vertical-align: middle;\n",
       "    }\n",
       "\n",
       "    .dataframe tbody tr th {\n",
       "        vertical-align: top;\n",
       "    }\n",
       "\n",
       "    .dataframe thead th {\n",
       "        text-align: right;\n",
       "    }\n",
       "</style>\n",
       "<table border=\"1\" class=\"dataframe\">\n",
       "  <thead>\n",
       "    <tr style=\"text-align: right;\">\n",
       "      <th></th>\n",
       "      <th>id</th>\n",
       "      <th>Gender</th>\n",
       "      <th>Customer Type</th>\n",
       "      <th>Age</th>\n",
       "      <th>Type of Travel</th>\n",
       "      <th>Class</th>\n",
       "      <th>Flight Distance</th>\n",
       "      <th>Inflight wifi service</th>\n",
       "      <th>Departure/Arrival time convenient</th>\n",
       "      <th>Ease of Online booking</th>\n",
       "      <th>...</th>\n",
       "      <th>Inflight entertainment</th>\n",
       "      <th>On-board service</th>\n",
       "      <th>Leg room service</th>\n",
       "      <th>Baggage handling</th>\n",
       "      <th>Checkin service</th>\n",
       "      <th>Inflight service</th>\n",
       "      <th>Cleanliness</th>\n",
       "      <th>Departure Delay in Minutes</th>\n",
       "      <th>Arrival Delay in Minutes</th>\n",
       "      <th>satisfaction</th>\n",
       "    </tr>\n",
       "  </thead>\n",
       "  <tbody>\n",
       "    <tr>\n",
       "      <th>0</th>\n",
       "      <td>19556</td>\n",
       "      <td>Female</td>\n",
       "      <td>Loyal Customer</td>\n",
       "      <td>52</td>\n",
       "      <td>Business travel</td>\n",
       "      <td>Eco</td>\n",
       "      <td>160</td>\n",
       "      <td>5</td>\n",
       "      <td>4</td>\n",
       "      <td>3</td>\n",
       "      <td>...</td>\n",
       "      <td>5</td>\n",
       "      <td>5</td>\n",
       "      <td>5</td>\n",
       "      <td>5</td>\n",
       "      <td>2</td>\n",
       "      <td>5</td>\n",
       "      <td>5</td>\n",
       "      <td>50</td>\n",
       "      <td>44.0</td>\n",
       "      <td>satisfied</td>\n",
       "    </tr>\n",
       "    <tr>\n",
       "      <th>1</th>\n",
       "      <td>90035</td>\n",
       "      <td>Female</td>\n",
       "      <td>Loyal Customer</td>\n",
       "      <td>36</td>\n",
       "      <td>Business travel</td>\n",
       "      <td>Business</td>\n",
       "      <td>2863</td>\n",
       "      <td>1</td>\n",
       "      <td>1</td>\n",
       "      <td>3</td>\n",
       "      <td>...</td>\n",
       "      <td>4</td>\n",
       "      <td>4</td>\n",
       "      <td>4</td>\n",
       "      <td>4</td>\n",
       "      <td>3</td>\n",
       "      <td>4</td>\n",
       "      <td>5</td>\n",
       "      <td>0</td>\n",
       "      <td>0.0</td>\n",
       "      <td>satisfied</td>\n",
       "    </tr>\n",
       "    <tr>\n",
       "      <th>2</th>\n",
       "      <td>12360</td>\n",
       "      <td>Male</td>\n",
       "      <td>disloyal Customer</td>\n",
       "      <td>20</td>\n",
       "      <td>Business travel</td>\n",
       "      <td>Eco</td>\n",
       "      <td>192</td>\n",
       "      <td>2</td>\n",
       "      <td>0</td>\n",
       "      <td>2</td>\n",
       "      <td>...</td>\n",
       "      <td>2</td>\n",
       "      <td>4</td>\n",
       "      <td>1</td>\n",
       "      <td>3</td>\n",
       "      <td>2</td>\n",
       "      <td>2</td>\n",
       "      <td>2</td>\n",
       "      <td>0</td>\n",
       "      <td>0.0</td>\n",
       "      <td>neutral or dissatisfied</td>\n",
       "    </tr>\n",
       "    <tr>\n",
       "      <th>3</th>\n",
       "      <td>77959</td>\n",
       "      <td>Male</td>\n",
       "      <td>Loyal Customer</td>\n",
       "      <td>44</td>\n",
       "      <td>Business travel</td>\n",
       "      <td>Business</td>\n",
       "      <td>3377</td>\n",
       "      <td>0</td>\n",
       "      <td>0</td>\n",
       "      <td>0</td>\n",
       "      <td>...</td>\n",
       "      <td>1</td>\n",
       "      <td>1</td>\n",
       "      <td>1</td>\n",
       "      <td>1</td>\n",
       "      <td>3</td>\n",
       "      <td>1</td>\n",
       "      <td>4</td>\n",
       "      <td>0</td>\n",
       "      <td>6.0</td>\n",
       "      <td>satisfied</td>\n",
       "    </tr>\n",
       "    <tr>\n",
       "      <th>4</th>\n",
       "      <td>36875</td>\n",
       "      <td>Female</td>\n",
       "      <td>Loyal Customer</td>\n",
       "      <td>49</td>\n",
       "      <td>Business travel</td>\n",
       "      <td>Eco</td>\n",
       "      <td>1182</td>\n",
       "      <td>2</td>\n",
       "      <td>3</td>\n",
       "      <td>4</td>\n",
       "      <td>...</td>\n",
       "      <td>2</td>\n",
       "      <td>2</td>\n",
       "      <td>2</td>\n",
       "      <td>2</td>\n",
       "      <td>4</td>\n",
       "      <td>2</td>\n",
       "      <td>4</td>\n",
       "      <td>0</td>\n",
       "      <td>20.0</td>\n",
       "      <td>satisfied</td>\n",
       "    </tr>\n",
       "  </tbody>\n",
       "</table>\n",
       "<p>5 rows × 24 columns</p>\n",
       "</div>"
      ],
      "text/plain": [
       "      id  Gender      Customer Type  Age   Type of Travel     Class  \\\n",
       "0  19556  Female     Loyal Customer   52  Business travel       Eco   \n",
       "1  90035  Female     Loyal Customer   36  Business travel  Business   \n",
       "2  12360    Male  disloyal Customer   20  Business travel       Eco   \n",
       "3  77959    Male     Loyal Customer   44  Business travel  Business   \n",
       "4  36875  Female     Loyal Customer   49  Business travel       Eco   \n",
       "\n",
       "   Flight Distance  Inflight wifi service  Departure/Arrival time convenient  \\\n",
       "0              160                      5                                  4   \n",
       "1             2863                      1                                  1   \n",
       "2              192                      2                                  0   \n",
       "3             3377                      0                                  0   \n",
       "4             1182                      2                                  3   \n",
       "\n",
       "   Ease of Online booking  ...  Inflight entertainment  On-board service  \\\n",
       "0                       3  ...                       5                 5   \n",
       "1                       3  ...                       4                 4   \n",
       "2                       2  ...                       2                 4   \n",
       "3                       0  ...                       1                 1   \n",
       "4                       4  ...                       2                 2   \n",
       "\n",
       "   Leg room service  Baggage handling  Checkin service  Inflight service  \\\n",
       "0                 5                 5                2                 5   \n",
       "1                 4                 4                3                 4   \n",
       "2                 1                 3                2                 2   \n",
       "3                 1                 1                3                 1   \n",
       "4                 2                 2                4                 2   \n",
       "\n",
       "   Cleanliness  Departure Delay in Minutes  Arrival Delay in Minutes  \\\n",
       "0            5                          50                      44.0   \n",
       "1            5                           0                       0.0   \n",
       "2            2                           0                       0.0   \n",
       "3            4                           0                       6.0   \n",
       "4            4                           0                      20.0   \n",
       "\n",
       "              satisfaction  \n",
       "0                satisfied  \n",
       "1                satisfied  \n",
       "2  neutral or dissatisfied  \n",
       "3                satisfied  \n",
       "4                satisfied  \n",
       "\n",
       "[5 rows x 24 columns]"
      ]
     },
     "execution_count": 5,
     "metadata": {},
     "output_type": "execute_result"
    }
   ],
   "source": [
    "all_df = pd.concat([test,train], axis=0)\n",
    "all_df.drop(columns='Unnamed: 0', inplace=True)\n",
    "all_df.head()"
   ]
  },
  {
   "cell_type": "code",
   "execution_count": 6,
   "id": "958ad747-b8c4-446c-b814-53e56af9686d",
   "metadata": {},
   "outputs": [
    {
     "name": "stdout",
     "output_type": "stream",
     "text": [
      "<class 'pandas.core.frame.DataFrame'>\n",
      "Int64Index: 129880 entries, 0 to 103903\n",
      "Data columns (total 24 columns):\n",
      " #   Column                             Non-Null Count   Dtype  \n",
      "---  ------                             --------------   -----  \n",
      " 0   id                                 129880 non-null  int64  \n",
      " 1   Gender                             129880 non-null  object \n",
      " 2   Customer Type                      129880 non-null  object \n",
      " 3   Age                                129880 non-null  int64  \n",
      " 4   Type of Travel                     129880 non-null  object \n",
      " 5   Class                              129880 non-null  object \n",
      " 6   Flight Distance                    129880 non-null  int64  \n",
      " 7   Inflight wifi service              129880 non-null  int64  \n",
      " 8   Departure/Arrival time convenient  129880 non-null  int64  \n",
      " 9   Ease of Online booking             129880 non-null  int64  \n",
      " 10  Gate location                      129880 non-null  int64  \n",
      " 11  Food and drink                     129880 non-null  int64  \n",
      " 12  Online boarding                    129880 non-null  int64  \n",
      " 13  Seat comfort                       129880 non-null  int64  \n",
      " 14  Inflight entertainment             129880 non-null  int64  \n",
      " 15  On-board service                   129880 non-null  int64  \n",
      " 16  Leg room service                   129880 non-null  int64  \n",
      " 17  Baggage handling                   129880 non-null  int64  \n",
      " 18  Checkin service                    129880 non-null  int64  \n",
      " 19  Inflight service                   129880 non-null  int64  \n",
      " 20  Cleanliness                        129880 non-null  int64  \n",
      " 21  Departure Delay in Minutes         129880 non-null  int64  \n",
      " 22  Arrival Delay in Minutes           129487 non-null  float64\n",
      " 23  satisfaction                       129880 non-null  object \n",
      "dtypes: float64(1), int64(18), object(5)\n",
      "memory usage: 24.8+ MB\n"
     ]
    }
   ],
   "source": [
    "all_df.info()"
   ]
  },
  {
   "cell_type": "code",
   "execution_count": 7,
   "id": "9eedb434-fab1-4681-9c29-05d9bca955ce",
   "metadata": {},
   "outputs": [
    {
     "data": {
      "text/plain": [
       "id                                     0\n",
       "Gender                                 0\n",
       "Customer Type                          0\n",
       "Age                                    0\n",
       "Type of Travel                         0\n",
       "Class                                  0\n",
       "Flight Distance                        0\n",
       "Inflight wifi service                  0\n",
       "Departure/Arrival time convenient      0\n",
       "Ease of Online booking                 0\n",
       "Gate location                          0\n",
       "Food and drink                         0\n",
       "Online boarding                        0\n",
       "Seat comfort                           0\n",
       "Inflight entertainment                 0\n",
       "On-board service                       0\n",
       "Leg room service                       0\n",
       "Baggage handling                       0\n",
       "Checkin service                        0\n",
       "Inflight service                       0\n",
       "Cleanliness                            0\n",
       "Departure Delay in Minutes             0\n",
       "Arrival Delay in Minutes             393\n",
       "satisfaction                           0\n",
       "dtype: int64"
      ]
     },
     "execution_count": 7,
     "metadata": {},
     "output_type": "execute_result"
    }
   ],
   "source": [
    "all_df.isnull().sum()"
   ]
  },
  {
   "cell_type": "code",
   "execution_count": 8,
   "id": "6dc61b5e-55a8-4358-ad92-f67341631a7c",
   "metadata": {},
   "outputs": [],
   "source": [
    "all_df.drop(columns=['id'], inplace=True)"
   ]
  },
  {
   "cell_type": "markdown",
   "id": "fec10b7c-ac6f-42e9-b769-d2fa5d80be0e",
   "metadata": {},
   "source": [
    "# Explore Data and Visualization"
   ]
  },
  {
   "cell_type": "markdown",
   "id": "6babbcf1-02ae-42f4-9d7a-59a33251b5ca",
   "metadata": {},
   "source": [
    "## Overall number of satisfaction"
   ]
  },
  {
   "cell_type": "code",
   "execution_count": 9,
   "id": "0044036c-1620-45b9-9681-4912e9129562",
   "metadata": {},
   "outputs": [
    {
     "data": {
      "image/png": "[encoded data removed]",
      "text/plain": [
       "<Figure size 504x360 with 1 Axes>"
      ]
     },
     "metadata": {
      "needs_background": "light"
     },
     "output_type": "display_data"
    }
   ],
   "source": [
    "# Number of satisfied people and neutral or dissatisfied people\n",
    "satis_value_counts = pd.DataFrame(all_df.satisfaction.value_counts())\n",
    "\n",
    "plt.figure(figsize=(7,5))\n",
    "plt.bar(x = satis_value_counts.index, height=satis_value_counts.satisfaction)\n",
    "plt.title('Number of Satisfaction', fontsize=15)\n",
    "plt.xticks(fontsize=12)\n",
    "plt.show()"
   ]
  },
  {
   "cell_type": "markdown",
   "id": "e1af7445-ebb5-47bf-aaca-a136b8f41e3e",
   "metadata": {},
   "source": [
    "## Departure Delay in Minutes \n",
    "\n",
    "Is there strong relationship between Departure Delay and Customer satisfaction?"
   ]
  },
  {
   "cell_type": "code",
   "execution_count": 10,
   "id": "07dc112a-e816-4827-91de-964571350845",
   "metadata": {},
   "outputs": [],
   "source": [
    "# Separate the dataset one with more than 60 minutes/one with less than 30 minutes delay\n",
    "more_than_60 = all_df[all_df['Departure Delay in Minutes'] > 60]\n",
    "less_than_30 = all_df[all_df['Departure Delay in Minutes'] < 30]"
   ]
  },
  {
   "cell_type": "code",
   "execution_count": 11,
   "id": "8cc80953-3716-42ac-bc7b-b53701fc705f",
   "metadata": {},
   "outputs": [],
   "source": [
    "more_than_60 = more_than_60['satisfaction'].value_counts()\n",
    "less_than_30 = less_than_30['satisfaction'].value_counts()"
   ]
  },
  {
   "cell_type": "code",
   "execution_count": 12,
   "id": "1a072fe3-3e7a-418a-9e52-e2992dba3167",
   "metadata": {},
   "outputs": [
    {
     "data": {
      "image/png": "[encoded data removed]",
      "text/plain": [
       "<Figure size 792x792 with 2 Axes>"
      ]
     },
     "metadata": {},
     "output_type": "display_data"
    }
   ],
   "source": [
    "fig, (ax1, ax2) = plt.subplots(1,2)\n",
    "fig.set_size_inches(11,11)\n",
    "\n",
    "labels = ['neutral or dissatisfied', 'satisfied']\n",
    "\n",
    "ax1.pie(more_than_60, labels=labels, autopct='%1.2f%%', startangle=90, counterclock=False)\n",
    "ax1.set_title(\"More than 60 minutes Departure delay (>60)\")\n",
    "\n",
    "ax2.pie(less_than_30, labels=labels, autopct='%1.2f%%', startangle=90, counterclock=False)\n",
    "ax2.set_title(\"Less than 30 minutes Departure delay (<30)\")\n",
    "\n",
    "plt.show()"
   ]
  },
  {
   "cell_type": "markdown",
   "id": "f3d4afb7-1500-4f88-a208-5852333979e3",
   "metadata": {},
   "source": [
    "## Distribution of Customer's age"
   ]
  },
  {
   "cell_type": "code",
   "execution_count": 13,
   "id": "adbb69a7-bc36-4819-9040-248843a358c0",
   "metadata": {},
   "outputs": [
    {
     "data": {
      "image/png": "[encoded data removed]",
      "text/plain": [
       "<Figure size 576x360 with 1 Axes>"
      ]
     },
     "metadata": {
      "needs_background": "light"
     },
     "output_type": "display_data"
    }
   ],
   "source": [
    "# Plot Histogram of Customer's age\n",
    "plt.figure(figsize=(8,5))\n",
    "sns.set_style('whitegrid')\n",
    "sns.histplot(all_df['Age'],bins=20, color='orange')\n",
    "plt.title('Age Distribution')\n",
    "plt.show()  "
   ]
  },
  {
   "cell_type": "markdown",
   "id": "b0dc0d9d-3aa7-4c7d-b84c-08d530b6e741",
   "metadata": {},
   "source": [
    "## Customer satisfaction by Age group\n",
    "\n",
    "We will create age groups so that we can analyze data by thier age."
   ]
  },
  {
   "cell_type": "code",
   "execution_count": 14,
   "id": "b71c66ce-859c-4cbd-8f1e-7a610fc8113e",
   "metadata": {},
   "outputs": [],
   "source": [
    "# Crage Age groups in new column (Under20, 20s, 30s, 40s, 50s,60s,70s, and 80s)\n",
    "age_group = []\n",
    "\n",
    "for i in all_df['Age']:\n",
    "    if i > 0 and i < 20:\n",
    "        i = 'Under 20'\n",
    "        age_group.append(i)\n",
    "   \n",
    "    elif i >= 20 and i < 30:\n",
    "        i = '20s'\n",
    "        age_group.append(i)\n",
    "    \n",
    "    elif i >= 30 and i < 40:\n",
    "        i = '30s'\n",
    "        age_group.append(i)\n",
    "        \n",
    "    elif i >= 40 and i < 50:\n",
    "        i = '40s'\n",
    "        age_group.append(i)\n",
    "        \n",
    "    elif i >= 50 and i < 60:\n",
    "        i = '50s'\n",
    "        age_group.append(i)\n",
    "    \n",
    "    elif i >= 60 and i < 70:\n",
    "        i = '60s'\n",
    "        age_group.append(i)\n",
    "        \n",
    "    elif i >= 70 and i < 80:\n",
    "        i = '70s'\n",
    "        age_group.append(i)\n",
    "        \n",
    "    elif i >= 80 and i < 90:\n",
    "        i = '80s'\n",
    "        age_group.append(i)"
   ]
  },
  {
   "cell_type": "code",
   "execution_count": 15,
   "id": "9c4b0935-f3d1-42d8-b4c8-a2a0c326e49c",
   "metadata": {},
   "outputs": [],
   "source": [
    "all_df['Age Group'] = age_group"
   ]
  },
  {
   "cell_type": "code",
   "execution_count": 16,
   "id": "7621dbec-a361-4c04-869c-1f09de85e194",
   "metadata": {},
   "outputs": [],
   "source": [
    "age_group_satisfaction_count = all_df.groupby('Age Group')['satisfaction'].value_counts().unstack()\n",
    "age_group_satisfaction_count = pd.DataFrame(age_group_satisfaction_count)"
   ]
  },
  {
   "cell_type": "code",
   "execution_count": 17,
   "id": "3626fa13-5d48-409a-acaa-4020712d75c8",
   "metadata": {},
   "outputs": [
    {
     "data": {
      "image/png": "[encoded data removed]",
      "text/plain": [
       "<Figure size 504x360 with 1 Axes>"
      ]
     },
     "metadata": {},
     "output_type": "display_data"
    }
   ],
   "source": [
    "age_group_satisfaction_count.plot.bar(figsize=(7,5))\n",
    "plt.title(\"Number of Satisfaction by Age group\", fontsize=15)\n",
    "plt.xticks(fontsize=12, rotation=0)\n",
    "plt.legend(fontsize=12)\n",
    "plt.show()"
   ]
  },
  {
   "cell_type": "markdown",
   "id": "35448268-77d0-402e-ad3a-2a3d433cff78",
   "metadata": {},
   "source": [
    "## Seat Class and Customer satisfaction\n",
    "\n",
    "Is there strong relationship between seat class and customer satisfaction?"
   ]
  },
  {
   "cell_type": "code",
   "execution_count": 18,
   "id": "ff5dad45-1705-44e0-9699-9a7320f509e6",
   "metadata": {},
   "outputs": [],
   "source": [
    "# Number of satisfaction grouped by seat Class \n",
    "class_satisfaction = all_df.groupby([\"Class\",'satisfaction'])['satisfaction'].count().unstack()"
   ]
  },
  {
   "cell_type": "code",
   "execution_count": 19,
   "id": "243976ad-ded4-45c5-b1c6-5f4ed1263bfa",
   "metadata": {},
   "outputs": [
    {
     "data": {
      "image/png": "[encoded data removed]",
      "text/plain": [
       "<Figure size 504x360 with 1 Axes>"
      ]
     },
     "metadata": {},
     "output_type": "display_data"
    }
   ],
   "source": [
    "class_satisfaction.plot.bar(figsize=(7,5))\n",
    "plt.title(\"Seat class and Customer satisfaction\",fontsize=15)\n",
    "plt.xlabel(\"Seat Class\", fontsize=12)\n",
    "plt.xticks(fontsize=12, rotation=0)\n",
    "plt.legend(fontsize=12)\n",
    "plt.show()"
   ]
  },
  {
   "cell_type": "markdown",
   "id": "c8dc3355-f59d-466b-827d-2e0362c277d6",
   "metadata": {},
   "source": [
    "## Seat Class by Age group"
   ]
  },
  {
   "cell_type": "code",
   "execution_count": 20,
   "id": "a4c6c6bd-e848-4465-bbee-60de3bf98e86",
   "metadata": {},
   "outputs": [],
   "source": [
    "age_group_class = all_df.groupby('Age Group')['Class'].value_counts().unstack()"
   ]
  },
  {
   "cell_type": "code",
   "execution_count": 21,
   "id": "dbb7a11a-8c14-46ea-9c09-7bfa00abe1f7",
   "metadata": {},
   "outputs": [
    {
     "data": {
      "image/png": "[encoded data removed]",
      "text/plain": [
       "<Figure size 576x432 with 1 Axes>"
      ]
     },
     "metadata": {},
     "output_type": "display_data"
    }
   ],
   "source": [
    "age_group_class.plot.bar(figsize=(8,6))\n",
    "plt.title(\"Number of people grouped by Class and Age group\",fontsize=15)\n",
    "plt.xticks(fontsize=12, rotation=0)\n",
    "plt.legend(fontsize=12)\n",
    "plt.show()"
   ]
  },
  {
   "cell_type": "markdown",
   "id": "5160ea2f-2e3a-41d9-83b6-e9ce642174d9",
   "metadata": {},
   "source": [
    "## Type of Travel by Age group"
   ]
  },
  {
   "cell_type": "code",
   "execution_count": 22,
   "id": "17ff527b-f454-44d3-8921-dd5e37292111",
   "metadata": {},
   "outputs": [],
   "source": [
    "age_group_trip_type = all_df.groupby('Age Group')['Type of Travel'].value_counts().unstack()"
   ]
  },
  {
   "cell_type": "code",
   "execution_count": 23,
   "id": "3b7376ba-50ea-41e5-b714-59d7d23d637c",
   "metadata": {},
   "outputs": [
    {
     "data": {
      "image/png": "[encoded data removed]",
      "text/plain": [
       "<Figure size 504x360 with 1 Axes>"
      ]
     },
     "metadata": {},
     "output_type": "display_data"
    }
   ],
   "source": [
    "age_group_trip_type.plot.bar(figsize=(7,5))\n",
    "plt.title(\"Number of people grouped by Type of Travel and Age group\",fontsize=15)\n",
    "plt.xticks(fontsize=12, rotation=0)\n",
    "plt.legend(fontsize=12)\n",
    "plt.show()"
   ]
  },
  {
   "cell_type": "markdown",
   "id": "efdc2617-282a-42b0-a32f-c3f0a59d6a68",
   "metadata": {},
   "source": [
    "## Ratio of Satisfaction for Each customer type"
   ]
  },
  {
   "cell_type": "code",
   "execution_count": 24,
   "id": "906b0bdd-9153-499c-b088-b7d10a5582ed",
   "metadata": {},
   "outputs": [
    {
     "data": {
      "text/html": [
       "<div>\n",
       "<style scoped>\n",
       "    .dataframe tbody tr th:only-of-type {\n",
       "        vertical-align: middle;\n",
       "    }\n",
       "\n",
       "    .dataframe tbody tr th {\n",
       "        vertical-align: top;\n",
       "    }\n",
       "\n",
       "    .dataframe thead th {\n",
       "        text-align: right;\n",
       "    }\n",
       "</style>\n",
       "<table border=\"1\" class=\"dataframe\">\n",
       "  <thead>\n",
       "    <tr style=\"text-align: right;\">\n",
       "      <th>satisfaction</th>\n",
       "      <th>neutral or dissatisfied</th>\n",
       "      <th>satisfied</th>\n",
       "    </tr>\n",
       "    <tr>\n",
       "      <th>Customer Type</th>\n",
       "      <th></th>\n",
       "      <th></th>\n",
       "    </tr>\n",
       "  </thead>\n",
       "  <tbody>\n",
       "    <tr>\n",
       "      <th>Loyal Customer</th>\n",
       "      <td>55372</td>\n",
       "      <td>50728</td>\n",
       "    </tr>\n",
       "    <tr>\n",
       "      <th>disloyal Customer</th>\n",
       "      <td>18080</td>\n",
       "      <td>5700</td>\n",
       "    </tr>\n",
       "  </tbody>\n",
       "</table>\n",
       "</div>"
      ],
      "text/plain": [
       "satisfaction       neutral or dissatisfied  satisfied\n",
       "Customer Type                                        \n",
       "Loyal Customer                       55372      50728\n",
       "disloyal Customer                    18080       5700"
      ]
     },
     "execution_count": 24,
     "metadata": {},
     "output_type": "execute_result"
    }
   ],
   "source": [
    "# Value counts for Satisfaction for each Customer Type\n",
    "customer_type_satisfaction = all_df.groupby('Customer Type')['satisfaction'].value_counts().unstack()\n",
    "customer_type_satisfaction"
   ]
  },
  {
   "cell_type": "code",
   "execution_count": 25,
   "id": "2622d0e7-c107-45b6-bced-9fa264096c83",
   "metadata": {},
   "outputs": [],
   "source": [
    "type_1 = (customer_type_satisfaction.loc['Loyal Customer'][0]/customer_type_satisfaction.loc['Loyal Customer'].sum())*100"
   ]
  },
  {
   "cell_type": "code",
   "execution_count": 26,
   "id": "47f16c76-8231-4bbc-b786-ffed1e6d990e",
   "metadata": {},
   "outputs": [],
   "source": [
    "type_2 = (customer_type_satisfaction.loc['Loyal Customer'][1]/customer_type_satisfaction.loc['Loyal Customer'].sum())*100"
   ]
  },
  {
   "cell_type": "code",
   "execution_count": 27,
   "id": "c1c7d404-48ee-487d-a353-12c63bf431d1",
   "metadata": {},
   "outputs": [],
   "source": [
    "type_3 = (customer_type_satisfaction.loc['disloyal Customer'][0]/customer_type_satisfaction.loc['disloyal Customer'].sum())*100"
   ]
  },
  {
   "cell_type": "code",
   "execution_count": 28,
   "id": "2a70970a-9258-41dc-b681-b200c9cafff4",
   "metadata": {},
   "outputs": [],
   "source": [
    "type_4 = (customer_type_satisfaction.loc['disloyal Customer'][1]/customer_type_satisfaction.loc['disloyal Customer'].sum())*100"
   ]
  },
  {
   "cell_type": "code",
   "execution_count": 42,
   "id": "b934a106-0b1b-42ef-a33c-22a77e380a89",
   "metadata": {},
   "outputs": [
    {
     "data": {
      "text/html": [
       "<div>\n",
       "<style scoped>\n",
       "    .dataframe tbody tr th:only-of-type {\n",
       "        vertical-align: middle;\n",
       "    }\n",
       "\n",
       "    .dataframe tbody tr th {\n",
       "        vertical-align: top;\n",
       "    }\n",
       "\n",
       "    .dataframe thead th {\n",
       "        text-align: right;\n",
       "    }\n",
       "</style>\n",
       "<table border=\"1\" class=\"dataframe\">\n",
       "  <thead>\n",
       "    <tr style=\"text-align: right;\">\n",
       "      <th>satisfaction</th>\n",
       "      <th>neutral or dissatisfied</th>\n",
       "      <th>satisfied</th>\n",
       "    </tr>\n",
       "    <tr>\n",
       "      <th>Customer Type</th>\n",
       "      <th></th>\n",
       "      <th></th>\n",
       "    </tr>\n",
       "  </thead>\n",
       "  <tbody>\n",
       "    <tr>\n",
       "      <th>Loyal Customer</th>\n",
       "      <td>52.188501</td>\n",
       "      <td>47.811499</td>\n",
       "    </tr>\n",
       "    <tr>\n",
       "      <th>disloyal Customer</th>\n",
       "      <td>76.030278</td>\n",
       "      <td>23.969722</td>\n",
       "    </tr>\n",
       "  </tbody>\n",
       "</table>\n",
       "</div>"
      ],
      "text/plain": [
       "satisfaction       neutral or dissatisfied  satisfied\n",
       "Customer Type                                        \n",
       "Loyal Customer                   52.188501  47.811499\n",
       "disloyal Customer                76.030278  23.969722"
      ]
     },
     "execution_count": 42,
     "metadata": {},
     "output_type": "execute_result"
    }
   ],
   "source": [
    "# Conver the value to the ratio(%)\n",
    "customer_type_satisfaction.iloc[0,0]  = type_1\n",
    "customer_type_satisfaction.iloc[0,1]  = type_2\n",
    "customer_type_satisfaction.iloc[1,0]  = type_3\n",
    "customer_type_satisfaction.iloc[1,1]  = type_4\n",
    "customer_type_satisfaction"
   ]
  },
  {
   "cell_type": "code",
   "execution_count": 33,
   "id": "91b180da-05e5-4053-8a56-aebe024c66ef",
   "metadata": {},
   "outputs": [
    {
     "data": {
      "image/png": "[encoded data removed]",
      "text/plain": [
       "<Figure size 648x432 with 1 Axes>"
      ]
     },
     "metadata": {},
     "output_type": "display_data"
    }
   ],
   "source": [
    "# Plot the data above\n",
    "customer_type_satisfaction.plot(kind='bar', figsize=(9,6))\n",
    "plt.xticks(rotation=0, fontsize=12)\n",
    "plt.xlabel(\"Customer Type\",fontsize=12)\n",
    "plt.title(\"Ratio of Satisfaction for Each customer type\", fontsize=15)\n",
    "plt.legend(fontsize=12)\n",
    "plt.show()"
   ]
  },
  {
   "cell_type": "markdown",
   "id": "b22ada84-0ac6-42ca-91c1-7e681701ef93",
   "metadata": {},
   "source": [
    "We can see that Loyal Customer has high number of satisfaction."
   ]
  },
  {
   "cell_type": "markdown",
   "id": "83cdcc4b-4564-4fad-b328-23cf2e537105",
   "metadata": {},
   "source": [
    "## Customer Type by Age group"
   ]
  },
  {
   "cell_type": "code",
   "execution_count": 34,
   "id": "eeac29c4-bb99-4c92-84b5-e41961d83ede",
   "metadata": {},
   "outputs": [],
   "source": [
    "age_group_customer_type = all_df.groupby('Age Group')['Customer Type'].value_counts().unstack()"
   ]
  },
  {
   "cell_type": "code",
   "execution_count": 35,
   "id": "1d354284-68e3-472c-a348-c86dabc21fcc",
   "metadata": {},
   "outputs": [
    {
     "data": {
      "image/png": "[encoded data removed]",
      "text/plain": [
       "<Figure size 576x432 with 1 Axes>"
      ]
     },
     "metadata": {},
     "output_type": "display_data"
    }
   ],
   "source": [
    "# plot customer type by age group\n",
    "age_group_customer_type.plot(kind='bar', figsize=(8,6))\n",
    "plt.title(\"Customer Type by Age group\")\n",
    "plt.xticks(fontsize=12, rotation=0)\n",
    "plt.xlabel(\"Age Group\", fontsize=12)\n",
    "plt.legend(fontsize=12)\n",
    "plt.show()"
   ]
  },
  {
   "cell_type": "markdown",
   "id": "476cbdc9-8124-4da9-ba56-abe27c1f3b29",
   "metadata": {},
   "source": [
    "## Customer Type by Seat class"
   ]
  },
  {
   "cell_type": "code",
   "execution_count": 36,
   "id": "08508a75-2c0b-4cb9-ab12-81df5c6cda09",
   "metadata": {},
   "outputs": [
    {
     "data": {
      "image/png": "[encoded data removed]",
      "text/plain": [
       "<Figure size 576x432 with 1 Axes>"
      ]
     },
     "metadata": {},
     "output_type": "display_data"
    }
   ],
   "source": [
    "# plot customer type by seat class\n",
    "age_group_class = all_df.groupby('Class')['Customer Type'].value_counts().unstack()\n",
    "age_group_class.plot(kind='bar', figsize=(8,6))\n",
    "plt.xticks(fontsize=12, rotation=0)\n",
    "plt.xlabel(\"Class\", fontsize=12)\n",
    "plt.title(\"Customer Type by Seat class\", fontsize=15)\n",
    "plt.legend(fontsize=12)\n",
    "plt.show()"
   ]
  },
  {
   "cell_type": "markdown",
   "id": "a143424f-9659-481d-bc43-694aef9ad586",
   "metadata": {},
   "source": [
    "## Explore data with Economy Seats\n",
    "\n",
    "What should focus on economy seat data for improvement of Customer satisfaction? \n",
    "Obviously, We should investigate data with people who use economy seats."
   ]
  },
  {
   "cell_type": "code",
   "execution_count": 37,
   "id": "38dd6591-a431-48ce-97c3-932e6f166ee2",
   "metadata": {},
   "outputs": [
    {
     "data": {
      "text/html": [
       "<div>\n",
       "<style scoped>\n",
       "    .dataframe tbody tr th:only-of-type {\n",
       "        vertical-align: middle;\n",
       "    }\n",
       "\n",
       "    .dataframe tbody tr th {\n",
       "        vertical-align: top;\n",
       "    }\n",
       "\n",
       "    .dataframe thead th {\n",
       "        text-align: right;\n",
       "    }\n",
       "</style>\n",
       "<table border=\"1\" class=\"dataframe\">\n",
       "  <thead>\n",
       "    <tr style=\"text-align: right;\">\n",
       "      <th></th>\n",
       "      <th>Gender</th>\n",
       "      <th>Customer Type</th>\n",
       "      <th>Age</th>\n",
       "      <th>Type of Travel</th>\n",
       "      <th>Class</th>\n",
       "      <th>Flight Distance</th>\n",
       "      <th>Inflight wifi service</th>\n",
       "      <th>Departure/Arrival time convenient</th>\n",
       "      <th>Ease of Online booking</th>\n",
       "      <th>Gate location</th>\n",
       "      <th>...</th>\n",
       "      <th>On-board service</th>\n",
       "      <th>Leg room service</th>\n",
       "      <th>Baggage handling</th>\n",
       "      <th>Checkin service</th>\n",
       "      <th>Inflight service</th>\n",
       "      <th>Cleanliness</th>\n",
       "      <th>Departure Delay in Minutes</th>\n",
       "      <th>Arrival Delay in Minutes</th>\n",
       "      <th>satisfaction</th>\n",
       "      <th>Age Group</th>\n",
       "    </tr>\n",
       "  </thead>\n",
       "  <tbody>\n",
       "    <tr>\n",
       "      <th>0</th>\n",
       "      <td>Female</td>\n",
       "      <td>Loyal Customer</td>\n",
       "      <td>52</td>\n",
       "      <td>Business travel</td>\n",
       "      <td>Eco</td>\n",
       "      <td>160</td>\n",
       "      <td>5</td>\n",
       "      <td>4</td>\n",
       "      <td>3</td>\n",
       "      <td>4</td>\n",
       "      <td>...</td>\n",
       "      <td>5</td>\n",
       "      <td>5</td>\n",
       "      <td>5</td>\n",
       "      <td>2</td>\n",
       "      <td>5</td>\n",
       "      <td>5</td>\n",
       "      <td>50</td>\n",
       "      <td>44.0</td>\n",
       "      <td>satisfied</td>\n",
       "      <td>50s</td>\n",
       "    </tr>\n",
       "    <tr>\n",
       "      <th>2</th>\n",
       "      <td>Male</td>\n",
       "      <td>disloyal Customer</td>\n",
       "      <td>20</td>\n",
       "      <td>Business travel</td>\n",
       "      <td>Eco</td>\n",
       "      <td>192</td>\n",
       "      <td>2</td>\n",
       "      <td>0</td>\n",
       "      <td>2</td>\n",
       "      <td>4</td>\n",
       "      <td>...</td>\n",
       "      <td>4</td>\n",
       "      <td>1</td>\n",
       "      <td>3</td>\n",
       "      <td>2</td>\n",
       "      <td>2</td>\n",
       "      <td>2</td>\n",
       "      <td>0</td>\n",
       "      <td>0.0</td>\n",
       "      <td>neutral or dissatisfied</td>\n",
       "      <td>20s</td>\n",
       "    </tr>\n",
       "    <tr>\n",
       "      <th>4</th>\n",
       "      <td>Female</td>\n",
       "      <td>Loyal Customer</td>\n",
       "      <td>49</td>\n",
       "      <td>Business travel</td>\n",
       "      <td>Eco</td>\n",
       "      <td>1182</td>\n",
       "      <td>2</td>\n",
       "      <td>3</td>\n",
       "      <td>4</td>\n",
       "      <td>3</td>\n",
       "      <td>...</td>\n",
       "      <td>2</td>\n",
       "      <td>2</td>\n",
       "      <td>2</td>\n",
       "      <td>4</td>\n",
       "      <td>2</td>\n",
       "      <td>4</td>\n",
       "      <td>0</td>\n",
       "      <td>20.0</td>\n",
       "      <td>satisfied</td>\n",
       "      <td>40s</td>\n",
       "    </tr>\n",
       "    <tr>\n",
       "      <th>5</th>\n",
       "      <td>Male</td>\n",
       "      <td>Loyal Customer</td>\n",
       "      <td>16</td>\n",
       "      <td>Business travel</td>\n",
       "      <td>Eco</td>\n",
       "      <td>311</td>\n",
       "      <td>3</td>\n",
       "      <td>3</td>\n",
       "      <td>3</td>\n",
       "      <td>3</td>\n",
       "      <td>...</td>\n",
       "      <td>4</td>\n",
       "      <td>3</td>\n",
       "      <td>1</td>\n",
       "      <td>1</td>\n",
       "      <td>2</td>\n",
       "      <td>5</td>\n",
       "      <td>0</td>\n",
       "      <td>0.0</td>\n",
       "      <td>satisfied</td>\n",
       "      <td>Under 20</td>\n",
       "    </tr>\n",
       "    <tr>\n",
       "      <th>8</th>\n",
       "      <td>Male</td>\n",
       "      <td>Loyal Customer</td>\n",
       "      <td>47</td>\n",
       "      <td>Business travel</td>\n",
       "      <td>Eco</td>\n",
       "      <td>556</td>\n",
       "      <td>5</td>\n",
       "      <td>2</td>\n",
       "      <td>2</td>\n",
       "      <td>2</td>\n",
       "      <td>...</td>\n",
       "      <td>2</td>\n",
       "      <td>2</td>\n",
       "      <td>5</td>\n",
       "      <td>3</td>\n",
       "      <td>3</td>\n",
       "      <td>5</td>\n",
       "      <td>1</td>\n",
       "      <td>0.0</td>\n",
       "      <td>satisfied</td>\n",
       "      <td>40s</td>\n",
       "    </tr>\n",
       "  </tbody>\n",
       "</table>\n",
       "<p>5 rows × 24 columns</p>\n",
       "</div>"
      ],
      "text/plain": [
       "   Gender      Customer Type  Age   Type of Travel Class  Flight Distance  \\\n",
       "0  Female     Loyal Customer   52  Business travel   Eco              160   \n",
       "2    Male  disloyal Customer   20  Business travel   Eco              192   \n",
       "4  Female     Loyal Customer   49  Business travel   Eco             1182   \n",
       "5    Male     Loyal Customer   16  Business travel   Eco              311   \n",
       "8    Male     Loyal Customer   47  Business travel   Eco              556   \n",
       "\n",
       "   Inflight wifi service  Departure/Arrival time convenient  \\\n",
       "0                      5                                  4   \n",
       "2                      2                                  0   \n",
       "4                      2                                  3   \n",
       "5                      3                                  3   \n",
       "8                      5                                  2   \n",
       "\n",
       "   Ease of Online booking  Gate location  ...  On-board service  \\\n",
       "0                       3              4  ...                 5   \n",
       "2                       2              4  ...                 4   \n",
       "4                       4              3  ...                 2   \n",
       "5                       3              3  ...                 4   \n",
       "8                       2              2  ...                 2   \n",
       "\n",
       "   Leg room service  Baggage handling  Checkin service  Inflight service  \\\n",
       "0                 5                 5                2                 5   \n",
       "2                 1                 3                2                 2   \n",
       "4                 2                 2                4                 2   \n",
       "5                 3                 1                1                 2   \n",
       "8                 2                 5                3                 3   \n",
       "\n",
       "   Cleanliness  Departure Delay in Minutes  Arrival Delay in Minutes  \\\n",
       "0            5                          50                      44.0   \n",
       "2            2                           0                       0.0   \n",
       "4            4                           0                      20.0   \n",
       "5            5                           0                       0.0   \n",
       "8            5                           1                       0.0   \n",
       "\n",
       "              satisfaction  Age Group  \n",
       "0                satisfied        50s  \n",
       "2  neutral or dissatisfied        20s  \n",
       "4                satisfied        40s  \n",
       "5                satisfied   Under 20  \n",
       "8                satisfied        40s  \n",
       "\n",
       "[5 rows x 24 columns]"
      ]
     },
     "execution_count": 37,
     "metadata": {},
     "output_type": "execute_result"
    }
   ],
   "source": [
    "# Filter the data only Eco seats.\n",
    "eco_df = all_df[all_df['Class'] == 'Eco']\n",
    "eco_df.head()"
   ]
  },
  {
   "cell_type": "code",
   "execution_count": 38,
   "id": "fc2ada86-ea2e-4d4b-98eb-c1e5194f7778",
   "metadata": {},
   "outputs": [],
   "source": [
    "# Top 5 Lowest score items with Economy Seats\n",
    "eco_df_mean =  pd.DataFrame(eco_df.mean().sort_values()[:5])\n",
    "eco_df_mean.rename(columns={0:'score'}, inplace=True)"
   ]
  },
  {
   "cell_type": "code",
   "execution_count": 39,
   "id": "da963da7-ac5f-42d8-a21b-75f983ee2d25",
   "metadata": {},
   "outputs": [],
   "source": [
    "score = []\n",
    "for i in eco_df_mean.score:\n",
    "    i = round(i,2)\n",
    "    score.append(i)\n",
    "eco_df_mean.score = score "
   ]
  },
  {
   "cell_type": "code",
   "execution_count": 40,
   "id": "6efe238e-422c-44eb-863a-a8ce31e811bc",
   "metadata": {},
   "outputs": [],
   "source": [
    "def addlabels(x,y):\n",
    "    for i in range(len(x)):\n",
    "        plt.text(i,y[i],y[i])"
   ]
  },
  {
   "cell_type": "code",
   "execution_count": 41,
   "id": "3a797afc-a1ae-4abf-95f4-d41553698aeb",
   "metadata": {},
   "outputs": [
    {
     "data": {
      "image/png": "[encoded data removed]",
      "text/plain": [
       "<Figure size 576x432 with 1 Axes>"
      ]
     },
     "metadata": {},
     "output_type": "display_data"
    }
   ],
   "source": [
    "eco_df_mean.plot.bar(figsize=(8,6))\n",
    "addlabels(eco_df_mean.index,eco_df_mean.score)\n",
    "plt.title('Top 5 Lowest Score by Economy seat users', fontsize=15)\n",
    "plt.xticks(rotation=40, fontsize=12)\n",
    "plt.legend(fontsize=12)\n",
    "plt.show()"
   ]
  },
  {
   "cell_type": "markdown",
   "id": "6dac77e8-b7b7-44a9-8801-2b3ed1ce1944",
   "metadata": {},
   "source": [
    "# Summary & Insights "
   ]
  },
  {
   "cell_type": "markdown",
   "id": "f3fc31dc-1094-4fa3-ba39-0e11bc049ebf",
   "metadata": {},
   "source": [
    "1. Satisfied rate slightly increase if the Departure delay is shorter. However, Departure Delay does not have significant impact on Customer satisfaction.\n",
    "\n",
    "2. High number of passengers are within range of 25 - 55 year old.\n",
    "\n",
    "3. High number of 40s and 50s people use Business Class and most of them are satisfied. Also, most of the business class seats are for Business Trip. \n",
    "\n",
    "4. Age group 40s and 50s have high number of Loyal Customer. Moreover, Business class has high number of Loyal Customer.\n",
    "    - Business Class users => 40s - 50s age group => Loyal Customers\n",
    "    - Eco Class users => 20s age group => Disloyal Customers\n",
    "\n",
    "\n",
    "5. In order to improve customer satisfaction, we can take a look at Internet service such as:\n",
    "    - Online Booking\n",
    "    - Inflight wifi service\n",
    "    - Online Boarding\n",
    "\n",
    "Because those are things that have the lowest score among Eco seat users. "
   ]
  }
 ],
 "metadata": {
  "kernelspec": {
   "display_name": "takomachi",
   "language": "python",
   "name": "takomachi"
  },
  "language_info": {
   "codemirror_mode": {
    "name": "ipython",
    "version": 3
   },
   "file_extension": ".py",
   "mimetype": "text/x-python",
   "name": "python",
   "nbconvert_exporter": "python",
   "pygments_lexer": "ipython3",
   "version": "3.9.5"
  }
 },
 "nbformat": 4,
 "nbformat_minor": 5
}
